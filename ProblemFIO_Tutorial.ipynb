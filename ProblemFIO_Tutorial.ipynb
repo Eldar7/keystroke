{
 "cells": [
  {
   "cell_type": "markdown",
   "metadata": {},
   "source": [
    "# Предсказание плохих или хороших ФИО : схема решения\n",
    "\n",
    "В задаче рассматриваются ФИО зарегистрированных в платёжной системе пользователей.    \n",
    "\n",
    "Каждому ФИО соответствует метка класса:    \n",
    "1) 0 - ФИО хорошее;    \n",
    "2) 1 - ФИО хорошее, но в нём присутствует опечатка;    \n",
    "3) 2 - ФИО плохое (трешовые наименования).\n",
    "\n",
    "Цель: предсказать метки наиболее точно.    \n",
    "\n",
    "Данные:   \n",
    "1) Непосредственно полное имя (необязательно состоящее из фамилии, имени и отчества, могут быть другие слова, может не быть отчества, т.д.);    \n",
    "2) Код гражданства."
   ]
  },
  {
   "cell_type": "markdown",
   "metadata": {},
   "source": [
    "## Загрузка данных"
   ]
  },
  {
   "cell_type": "code",
   "execution_count": 1,
   "metadata": {},
   "outputs": [],
   "source": [
    "import pandas as pd"
   ]
  },
  {
   "cell_type": "code",
   "execution_count": 5,
   "metadata": {},
   "outputs": [],
   "source": [
    "train = pd.read_csv('fio_data/fio_train.csv')\n",
    "test = pd.read_csv('fio_data/fio_test_raw.csv')"
   ]
  },
  {
   "cell_type": "code",
   "execution_count": 6,
   "metadata": {},
   "outputs": [
    {
     "data": {
      "text/html": [
       "<div>\n",
       "<style scoped>\n",
       "    .dataframe tbody tr th:only-of-type {\n",
       "        vertical-align: middle;\n",
       "    }\n",
       "\n",
       "    .dataframe tbody tr th {\n",
       "        vertical-align: top;\n",
       "    }\n",
       "\n",
       "    .dataframe thead th {\n",
       "        text-align: right;\n",
       "    }\n",
       "</style>\n",
       "<table border=\"1\" class=\"dataframe\">\n",
       "  <thead>\n",
       "    <tr style=\"text-align: right;\">\n",
       "      <th></th>\n",
       "      <th>FULLNAME</th>\n",
       "      <th>COUNTRYISO</th>\n",
       "      <th>label</th>\n",
       "    </tr>\n",
       "  </thead>\n",
       "  <tbody>\n",
       "    <tr>\n",
       "      <th>0</th>\n",
       "      <td>ЛЫКОВА ЮЛИЯ ВЛАДИМИРОВНА</td>\n",
       "      <td>RUS</td>\n",
       "      <td>0</td>\n",
       "    </tr>\n",
       "    <tr>\n",
       "      <th>1</th>\n",
       "      <td>КИРИЛИНА МАРИНА ИВАНОВНА</td>\n",
       "      <td>RUS</td>\n",
       "      <td>0</td>\n",
       "    </tr>\n",
       "    <tr>\n",
       "      <th>2</th>\n",
       "      <td>КОНЮХОВ ЕВГЕНИЙ ВИКТОРОВИЧ</td>\n",
       "      <td>RUS</td>\n",
       "      <td>0</td>\n",
       "    </tr>\n",
       "    <tr>\n",
       "      <th>3</th>\n",
       "      <td>ЧУРКИН АРТЁМ ВЯЧЕСЛАВОВИЧ</td>\n",
       "      <td>RUS</td>\n",
       "      <td>0</td>\n",
       "    </tr>\n",
       "    <tr>\n",
       "      <th>4</th>\n",
       "      <td>АЛИЕВ ГЮНДУЗ ХЫДЫРОГЛЫ</td>\n",
       "      <td>RUS</td>\n",
       "      <td>0</td>\n",
       "    </tr>\n",
       "  </tbody>\n",
       "</table>\n",
       "</div>"
      ],
      "text/plain": [
       "                     FULLNAME COUNTRYISO  label\n",
       "0    ЛЫКОВА ЮЛИЯ ВЛАДИМИРОВНА        RUS      0\n",
       "1    КИРИЛИНА МАРИНА ИВАНОВНА        RUS      0\n",
       "2  КОНЮХОВ ЕВГЕНИЙ ВИКТОРОВИЧ        RUS      0\n",
       "3   ЧУРКИН АРТЁМ ВЯЧЕСЛАВОВИЧ        RUS      0\n",
       "4      АЛИЕВ ГЮНДУЗ ХЫДЫРОГЛЫ        RUS      0"
      ]
     },
     "execution_count": 6,
     "metadata": {},
     "output_type": "execute_result"
    }
   ],
   "source": [
    "train.head()"
   ]
  },
  {
   "cell_type": "code",
   "execution_count": 7,
   "metadata": {},
   "outputs": [
    {
     "data": {
      "text/html": [
       "<div>\n",
       "<style scoped>\n",
       "    .dataframe tbody tr th:only-of-type {\n",
       "        vertical-align: middle;\n",
       "    }\n",
       "\n",
       "    .dataframe tbody tr th {\n",
       "        vertical-align: top;\n",
       "    }\n",
       "\n",
       "    .dataframe thead th {\n",
       "        text-align: right;\n",
       "    }\n",
       "</style>\n",
       "<table border=\"1\" class=\"dataframe\">\n",
       "  <thead>\n",
       "    <tr style=\"text-align: right;\">\n",
       "      <th></th>\n",
       "      <th>FULLNAME</th>\n",
       "      <th>COUNTRYISO</th>\n",
       "    </tr>\n",
       "  </thead>\n",
       "  <tbody>\n",
       "    <tr>\n",
       "      <th>0</th>\n",
       "      <td>KARAPETYAN GEGAHAM</td>\n",
       "      <td>ARM</td>\n",
       "    </tr>\n",
       "    <tr>\n",
       "      <th>1</th>\n",
       "      <td>АЗИМОВ АХКОМИДИН АСОЕВИЧ</td>\n",
       "      <td>TJK</td>\n",
       "    </tr>\n",
       "    <tr>\n",
       "      <th>2</th>\n",
       "      <td>KHUSENOV ABDUMATIN</td>\n",
       "      <td>GEO</td>\n",
       "    </tr>\n",
       "    <tr>\n",
       "      <th>3</th>\n",
       "      <td>МИКИНА ДИАНА СЕРГЕЕВНА</td>\n",
       "      <td>RUS</td>\n",
       "    </tr>\n",
       "    <tr>\n",
       "      <th>4</th>\n",
       "      <td>ЛЕВАШОВ ВИКТОР АЛЕКСАНДРОВИЧ</td>\n",
       "      <td>RUS</td>\n",
       "    </tr>\n",
       "  </tbody>\n",
       "</table>\n",
       "</div>"
      ],
      "text/plain": [
       "                       FULLNAME COUNTRYISO\n",
       "0            KARAPETYAN GEGAHAM        ARM\n",
       "1      АЗИМОВ АХКОМИДИН АСОЕВИЧ        TJK\n",
       "2            KHUSENOV ABDUMATIN        GEO\n",
       "3        МИКИНА ДИАНА СЕРГЕЕВНА        RUS\n",
       "4  ЛЕВАШОВ ВИКТОР АЛЕКСАНДРОВИЧ        RUS"
      ]
     },
     "execution_count": 7,
     "metadata": {},
     "output_type": "execute_result"
    }
   ],
   "source": [
    "test.head()"
   ]
  },
  {
   "cell_type": "markdown",
   "metadata": {},
   "source": [
    "##### Распределение меток на тестовой выборке"
   ]
  },
  {
   "cell_type": "code",
   "execution_count": 9,
   "metadata": {},
   "outputs": [
    {
     "data": {
      "text/plain": [
       "0    764989\n",
       "1    135013\n",
       "2       154\n",
       "Name: label, dtype: int64"
      ]
     },
     "execution_count": 9,
     "metadata": {},
     "output_type": "execute_result"
    }
   ],
   "source": [
    "train['label'].value_counts()"
   ]
  },
  {
   "cell_type": "markdown",
   "metadata": {},
   "source": [
    "## Построение матриц признаков\n",
    "\n",
    "Для работы с классификаторами необходимо построить вектора признаков для каждого ФИО. Воспользуемся традиционным подходом для задач обработки естественного языка: \"мешком\" символьных триграмм."
   ]
  },
  {
   "cell_type": "markdown",
   "metadata": {},
   "source": [
    "Но сперва установим пакет, который позволит нам быстро вычислять индекс той или иной триграммы в массиве всех возможных триграмм"
   ]
  },
  {
   "cell_type": "code",
   "execution_count": 48,
   "metadata": {},
   "outputs": [
    {
     "name": "stdout",
     "output_type": "stream",
     "text": [
      "Requirement already satisfied: dawg in /pub/home/ansec/anaconda3/lib/python3.6/site-packages\r\n"
     ]
    }
   ],
   "source": [
    "!pip install dawg"
   ]
  },
  {
   "cell_type": "code",
   "execution_count": 55,
   "metadata": {},
   "outputs": [],
   "source": [
    "from dawg import IntDAWG\n",
    "from scipy import sparse"
   ]
  },
  {
   "cell_type": "markdown",
   "metadata": {},
   "source": [
    "Создаём список всех наших признаков"
   ]
  },
  {
   "cell_type": "code",
   "execution_count": 56,
   "metadata": {},
   "outputs": [],
   "source": [
    "accepted_chars_rus = \"АБВГДЕЁЖЗИЙКЛМНОПРСТУФХЦЧШЩЪЫЬЭЮЯ'.-\"\n",
    "accepted_chars_lat = \"ABCDEFGHIJKLMNOPQRSTUVWXYZ'.-\"\n",
    "top_iso = [ 'iso_' + a for a in list(train['COUNTRYISO'].value_counts().keys())[:25] ]\n",
    "features = list()\n",
    "for i in accepted_chars_lat:\n",
    "    for j in accepted_chars_lat:\n",
    "        for k in accepted_chars_lat:\n",
    "            features.append(i+j+k)\n",
    "for i in accepted_chars_rus:\n",
    "    for j in accepted_chars_rus:\n",
    "        for k in accepted_chars_rus:\n",
    "            features.append(i+j+k)\n",
    "features.extend(top_iso)\n",
    "features_pairs = list(zip(features, range(len(features))))\n",
    "features_dawg = IntDAWG(features_pairs)\n",
    "feature_list = list(accepted_chars_rus + accepted_chars_lat) + top_iso\n",
    "trigrams = lambda a: zip(a, a[1:], a[2:])"
   ]
  },
  {
   "cell_type": "code",
   "execution_count": 57,
   "metadata": {},
   "outputs": [],
   "source": [
    "def construct_datasets(row):\n",
    "    cur_feat_ids = []\n",
    "    for trigram in trigrams(row['FULLNAME']):\n",
    "        trigram = ''.join(trigram)\n",
    "        if trigram in feature_list:\n",
    "            cur_feat_ids.append(features_dawg[trigram])\n",
    "    iso = 'iso_' + row['COUNTRYISO']\n",
    "    if iso in features_dawg:\n",
    "        cur_feat_ids.append(features_dawg[iso])\n",
    "    cur_feat_ids = sorted(list(set(cur_feat_ids)))\n",
    "    data = np.array([1]*len(cur_feat_ids))\n",
    "    indices = np.array(cur_feat_ids)\n",
    "    indptr = np.array([0,len(cur_feat_ids)])\n",
    "    return sparse.csr_matrix((data, indices, indptr), shape=(1, len(features))).astype(np.float64)"
   ]
  },
  {
   "cell_type": "code",
   "execution_count": 58,
   "metadata": {},
   "outputs": [
    {
     "name": "stdout",
     "output_type": "stream",
     "text": [
      "CPU times: user 3min 30s, sys: 1.07 s, total: 3min 31s\n",
      "Wall time: 3min 31s\n"
     ]
    }
   ],
   "source": [
    "%%time\n",
    "train['sparse_feats'] = train.apply(construct_datasets, axis=1)\n",
    "test['sparse_feats'] = test.apply(construct_datasets, axis=1)"
   ]
  },
  {
   "cell_type": "markdown",
   "metadata": {},
   "source": [
    "##### Сохраним матрицы признаков и метки в файлы, чтобы не пересчитывать их в дальнейшем"
   ]
  },
  {
   "cell_type": "code",
   "execution_count": 37,
   "metadata": {},
   "outputs": [
    {
     "name": "stdout",
     "output_type": "stream",
     "text": [
      "mkdir: cannot create directory ‘features’: File exists\r\n"
     ]
    }
   ],
   "source": [
    "!mkdir features"
   ]
  },
  {
   "cell_type": "code",
   "execution_count": 43,
   "metadata": {},
   "outputs": [
    {
     "name": "stdout",
     "output_type": "stream",
     "text": [
      "CPU times: user 192 ms, sys: 1.32 s, total: 1.51 s\n",
      "Wall time: 1.61 s\n"
     ]
    }
   ],
   "source": [
    "%%time\n",
    "X_train = sparse.vstack(train['sparse_feats'].values)\n",
    "y_train = fio_full_cleaned['label'].values\n",
    "X_test = sparse.vstack(test['sparse_feats'].values)"
   ]
  },
  {
   "cell_type": "code",
   "execution_count": null,
   "metadata": {},
   "outputs": [],
   "source": [
    "sparse.save_npz('features/X_train.npz', X_train)\n",
    "sparse.save_npz('features/X_test.npz', X_test)\n",
    "with open('features/y_train.pkl', 'wb') as f:\n",
    "    pickle.dump(y_train, f)"
   ]
  },
  {
   "cell_type": "markdown",
   "metadata": {},
   "source": [
    "## Классификатор"
   ]
  },
  {
   "cell_type": "code",
   "execution_count": 63,
   "metadata": {},
   "outputs": [],
   "source": [
    "import numpy as np\n",
    "\n",
    "from sklearn.model_selection import cross_val_score\n",
    "from sklearn.linear_model import LogisticRegression"
   ]
  },
  {
   "cell_type": "markdown",
   "metadata": {},
   "source": [
    "##### Оценка качества классификатора на кросс-валидации"
   ]
  },
  {
   "cell_type": "code",
   "execution_count": 75,
   "metadata": {},
   "outputs": [
    {
     "name": "stderr",
     "output_type": "stream",
     "text": [
      "/pub/home/ansec/anaconda3/lib/python3.6/site-packages/sklearn/metrics/classification.py:1135: UndefinedMetricWarning: F-score is ill-defined and being set to 0.0 in labels with no predicted samples.\n",
      "  'precision', 'predicted', average, warn_for)\n",
      "/pub/home/ansec/anaconda3/lib/python3.6/site-packages/sklearn/metrics/classification.py:1135: UndefinedMetricWarning: F-score is ill-defined and being set to 0.0 in labels with no predicted samples.\n",
      "  'precision', 'predicted', average, warn_for)\n",
      "/pub/home/ansec/anaconda3/lib/python3.6/site-packages/sklearn/metrics/classification.py:1135: UndefinedMetricWarning: F-score is ill-defined and being set to 0.0 in labels with no predicted samples.\n",
      "  'precision', 'predicted', average, warn_for)\n",
      "/pub/home/ansec/anaconda3/lib/python3.6/site-packages/sklearn/metrics/classification.py:1135: UndefinedMetricWarning: F-score is ill-defined and being set to 0.0 in labels with no predicted samples.\n",
      "  'precision', 'predicted', average, warn_for)\n"
     ]
    },
    {
     "name": "stdout",
     "output_type": "stream",
     "text": [
      "Bad FIO classifier: f1_macro=0.3062752292873576, cv_scores=[0.30627471 0.30627471 0.30627471 0.30627563 0.30627639]\n",
      "CPU times: user 25min 24s, sys: 5min 31s, total: 30min 56s\n",
      "Wall time: 2min 2s\n"
     ]
    },
    {
     "name": "stderr",
     "output_type": "stream",
     "text": [
      "/pub/home/ansec/anaconda3/lib/python3.6/site-packages/sklearn/metrics/classification.py:1135: UndefinedMetricWarning: F-score is ill-defined and being set to 0.0 in labels with no predicted samples.\n",
      "  'precision', 'predicted', average, warn_for)\n"
     ]
    }
   ],
   "source": [
    "%%time\n",
    "cv_scores = cross_val_score(\n",
    "    LogisticRegression(solver='lbfgs'),\n",
    "    sparse.vstack(train['sparse_feats'].values),\n",
    "    train['label'].values,\n",
    "    scoring='f1_macro',\n",
    "    cv=5,\n",
    ")\n",
    "print('Bad FIO classifier: f1_macro={}, cv_scores={}'.format(cv_scores.mean(), cv_scores))"
   ]
  },
  {
   "cell_type": "markdown",
   "metadata": {},
   "source": [
    "Предупреждения говорят нам о том, что в каком-то одном классе ни один элемент не предсказался верно. Низкие показатели макро F-меры также нам говорят о том, что некоторые классы распознаются с низкой точностью и полнотой.    \n",
    "Задача: предложить такие признаки и алгоритмы, которые будут иметь лучшие показатели макро F-меры."
   ]
  },
  {
   "cell_type": "markdown",
   "metadata": {},
   "source": [
    "##### Обучение классификатора и предсказание на тестовой выборке"
   ]
  },
  {
   "cell_type": "code",
   "execution_count": 76,
   "metadata": {},
   "outputs": [
    {
     "name": "stdout",
     "output_type": "stream",
     "text": [
      "CPU times: user 16min 8s, sys: 17min 55s, total: 34min 3s\n",
      "Wall time: 1min 27s\n"
     ]
    }
   ],
   "source": [
    "%%time\n",
    "model = LogisticRegression(solver='lbfgs').fit(X_train, y_train)"
   ]
  },
  {
   "cell_type": "code",
   "execution_count": 77,
   "metadata": {},
   "outputs": [],
   "source": [
    "y_test = model.predict(X_test)"
   ]
  },
  {
   "cell_type": "code",
   "execution_count": 78,
   "metadata": {},
   "outputs": [
    {
     "data": {
      "text/plain": [
       "array([0, 0, 0, ..., 0, 0, 0])"
      ]
     },
     "execution_count": 78,
     "metadata": {},
     "output_type": "execute_result"
    }
   ],
   "source": [
    "y_test"
   ]
  },
  {
   "cell_type": "markdown",
   "metadata": {},
   "source": [
    "## Файл с предсказаниями\n",
    "Файл представляет собой список меток, которые были проставлены алгоритмом. Важно сохранить количество и порядок меток."
   ]
  },
  {
   "cell_type": "code",
   "execution_count": 81,
   "metadata": {},
   "outputs": [],
   "source": [
    "!mkdir predictions"
   ]
  },
  {
   "cell_type": "code",
   "execution_count": 82,
   "metadata": {},
   "outputs": [],
   "source": [
    "with open('predictions/sample_submission.csv', 'w') as f:\n",
    "    f.write('\\n'.join(list(map(str, y_test))))"
   ]
  },
  {
   "cell_type": "code",
   "execution_count": 83,
   "metadata": {},
   "outputs": [
    {
     "name": "stdout",
     "output_type": "stream",
     "text": [
      "0\r\n",
      "0\r\n",
      "0\r\n",
      "0\r\n",
      "0\r\n",
      "0\r\n",
      "0\r\n",
      "0\r\n",
      "0\r\n",
      "0\r\n"
     ]
    }
   ],
   "source": [
    "!head predictions/sample_submission.csv"
   ]
  }
 ],
 "metadata": {
  "kernelspec": {
   "display_name": "Python 3",
   "language": "python",
   "name": "python3"
  },
  "language_info": {
   "codemirror_mode": {
    "name": "ipython",
    "version": 3
   },
   "file_extension": ".py",
   "mimetype": "text/x-python",
   "name": "python",
   "nbconvert_exporter": "python",
   "pygments_lexer": "ipython3",
   "version": "3.5.4"
  }
 },
 "nbformat": 4,
 "nbformat_minor": 2
}
