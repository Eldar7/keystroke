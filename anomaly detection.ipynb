{
 "cells": [
  {
   "cell_type": "code",
   "execution_count": 26,
   "metadata": {},
   "outputs": [],
   "source": [
    "import matplotlib.pyplot as plt\n",
    "import json\n",
    "import numpy\n",
    "import pandas as pd\n",
    "import datetime\n",
    "\n",
    "import utils\n",
    "\n",
    "from sklearn.ensemble import IsolationForest\n",
    "import numpy as np\n",
    "from sklearn.model_selection import train_test_split\n",
    "rng = np.random.RandomState(42)\n",
    "\n",
    "pd.set_option('display.height', 1000)\n",
    "pd.set_option('display.max_rows', 500)\n",
    "pd.set_option('display.max_columns', 500)\n",
    "pd.set_option('display.width', 1000)\n",
    "pd.set_option('display.max_colwidth', 1000)"
   ]
  },
  {
   "cell_type": "code",
   "execution_count": 2,
   "metadata": {},
   "outputs": [
    {
     "data": {
      "text/html": [
       "<div>\n",
       "<style scoped>\n",
       "    .dataframe tbody tr th:only-of-type {\n",
       "        vertical-align: middle;\n",
       "    }\n",
       "\n",
       "    .dataframe tbody tr th {\n",
       "        vertical-align: top;\n",
       "    }\n",
       "\n",
       "    .dataframe thead th {\n",
       "        text-align: right;\n",
       "    }\n",
       "</style>\n",
       "<table border=\"1\" class=\"dataframe\">\n",
       "  <thead>\n",
       "    <tr style=\"text-align: right;\">\n",
       "      <th></th>\n",
       "      <th>username</th>\n",
       "      <th>sn</th>\n",
       "      <th>phrase</th>\n",
       "      <th>date</th>\n",
       "      <th>key</th>\n",
       "      <th>action</th>\n",
       "      <th>time</th>\n",
       "    </tr>\n",
       "  </thead>\n",
       "  <tbody>\n",
       "    <tr>\n",
       "      <th>0</th>\n",
       "      <td>george</td>\n",
       "      <td>0.0</td>\n",
       "      <td>dslhbyj</td>\n",
       "      <td>2018-06-03 12:58:49.658198</td>\n",
       "      <td>D</td>\n",
       "      <td>Down</td>\n",
       "      <td>694791687</td>\n",
       "    </tr>\n",
       "    <tr>\n",
       "      <th>1</th>\n",
       "      <td>george</td>\n",
       "      <td>0.0</td>\n",
       "      <td>dslhbyj</td>\n",
       "      <td>2018-06-03 12:58:49.658198</td>\n",
       "      <td>S</td>\n",
       "      <td>Down</td>\n",
       "      <td>694791765</td>\n",
       "    </tr>\n",
       "    <tr>\n",
       "      <th>2</th>\n",
       "      <td>george</td>\n",
       "      <td>0.0</td>\n",
       "      <td>dslhbyj</td>\n",
       "      <td>2018-06-03 12:58:49.658198</td>\n",
       "      <td>D</td>\n",
       "      <td>Up</td>\n",
       "      <td>694791812</td>\n",
       "    </tr>\n",
       "    <tr>\n",
       "      <th>3</th>\n",
       "      <td>george</td>\n",
       "      <td>0.0</td>\n",
       "      <td>dslhbyj</td>\n",
       "      <td>2018-06-03 12:58:49.658198</td>\n",
       "      <td>S</td>\n",
       "      <td>Up</td>\n",
       "      <td>694791859</td>\n",
       "    </tr>\n",
       "    <tr>\n",
       "      <th>4</th>\n",
       "      <td>george</td>\n",
       "      <td>0.0</td>\n",
       "      <td>dslhbyj</td>\n",
       "      <td>2018-06-03 12:58:49.658198</td>\n",
       "      <td>L</td>\n",
       "      <td>Down</td>\n",
       "      <td>694791953</td>\n",
       "    </tr>\n",
       "  </tbody>\n",
       "</table>\n",
       "</div>"
      ],
      "text/plain": [
       "  username   sn   phrase                        date key action       time\n",
       "0   george  0.0  dslhbyj  2018-06-03 12:58:49.658198   D   Down  694791687\n",
       "1   george  0.0  dslhbyj  2018-06-03 12:58:49.658198   S   Down  694791765\n",
       "2   george  0.0  dslhbyj  2018-06-03 12:58:49.658198   D     Up  694791812\n",
       "3   george  0.0  dslhbyj  2018-06-03 12:58:49.658198   S     Up  694791859\n",
       "4   george  0.0  dslhbyj  2018-06-03 12:58:49.658198   L   Down  694791953"
      ]
     },
     "execution_count": 2,
     "metadata": {},
     "output_type": "execute_result"
    }
   ],
   "source": [
    "userdf = pd.read_csv('userdata.csv')\n",
    "userdf.head()#[userdf.username == 'd3'"
   ]
  },
  {
   "cell_type": "code",
   "execution_count": 3,
   "metadata": {},
   "outputs": [],
   "source": [
    "X = utils.getX(userdf)"
   ]
  },
  {
   "cell_type": "code",
   "execution_count": 4,
   "metadata": {},
   "outputs": [
    {
     "data": {
      "text/html": [
       "<div>\n",
       "<style scoped>\n",
       "    .dataframe tbody tr th:only-of-type {\n",
       "        vertical-align: middle;\n",
       "    }\n",
       "\n",
       "    .dataframe tbody tr th {\n",
       "        vertical-align: top;\n",
       "    }\n",
       "\n",
       "    .dataframe thead th {\n",
       "        text-align: right;\n",
       "    }\n",
       "</style>\n",
       "<table border=\"1\" class=\"dataframe\">\n",
       "  <thead>\n",
       "    <tr style=\"text-align: right;\">\n",
       "      <th></th>\n",
       "      <th>0</th>\n",
       "      <th>1</th>\n",
       "      <th>2</th>\n",
       "      <th>3</th>\n",
       "      <th>4</th>\n",
       "      <th>5</th>\n",
       "      <th>6</th>\n",
       "      <th>7</th>\n",
       "      <th>8</th>\n",
       "      <th>9</th>\n",
       "      <th>10</th>\n",
       "      <th>11</th>\n",
       "      <th>12</th>\n",
       "      <th>13</th>\n",
       "      <th>14</th>\n",
       "      <th>15</th>\n",
       "      <th>16</th>\n",
       "      <th>17</th>\n",
       "      <th>18</th>\n",
       "      <th>19</th>\n",
       "      <th>20</th>\n",
       "      <th>21</th>\n",
       "      <th>22</th>\n",
       "      <th>23</th>\n",
       "      <th>24</th>\n",
       "      <th>25</th>\n",
       "    </tr>\n",
       "  </thead>\n",
       "  <tbody>\n",
       "    <tr>\n",
       "      <th>0</th>\n",
       "      <td>daniil</td>\n",
       "      <td>0.0</td>\n",
       "      <td>235</td>\n",
       "      <td>359</td>\n",
       "      <td>344</td>\n",
       "      <td>547</td>\n",
       "      <td>281</td>\n",
       "      <td>313</td>\n",
       "      <td>281</td>\n",
       "      <td>313</td>\n",
       "      <td>343</td>\n",
       "      <td>594</td>\n",
       "      <td>219</td>\n",
       "      <td>265</td>\n",
       "      <td>125</td>\n",
       "      <td>203</td>\n",
       "      <td>234</td>\n",
       "      <td>438</td>\n",
       "      <td>125</td>\n",
       "      <td>219</td>\n",
       "      <td>110</td>\n",
       "      <td>156</td>\n",
       "      <td>110</td>\n",
       "      <td>109</td>\n",
       "      <td>156</td>\n",
       "      <td>94</td>\n",
       "    </tr>\n",
       "    <tr>\n",
       "      <th>1</th>\n",
       "      <td>daniil</td>\n",
       "      <td>1.0</td>\n",
       "      <td>78</td>\n",
       "      <td>453</td>\n",
       "      <td>344</td>\n",
       "      <td>219</td>\n",
       "      <td>203</td>\n",
       "      <td>234</td>\n",
       "      <td>32</td>\n",
       "      <td>343</td>\n",
       "      <td>344</td>\n",
       "      <td>203</td>\n",
       "      <td>188</td>\n",
       "      <td>234</td>\n",
       "      <td>-203</td>\n",
       "      <td>218</td>\n",
       "      <td>219</td>\n",
       "      <td>94</td>\n",
       "      <td>94</td>\n",
       "      <td>140</td>\n",
       "      <td>281</td>\n",
       "      <td>235</td>\n",
       "      <td>125</td>\n",
       "      <td>125</td>\n",
       "      <td>109</td>\n",
       "      <td>94</td>\n",
       "    </tr>\n",
       "    <tr>\n",
       "      <th>2</th>\n",
       "      <td>daniil</td>\n",
       "      <td>5.0</td>\n",
       "      <td>172</td>\n",
       "      <td>344</td>\n",
       "      <td>390</td>\n",
       "      <td>219</td>\n",
       "      <td>172</td>\n",
       "      <td>250</td>\n",
       "      <td>62</td>\n",
       "      <td>219</td>\n",
       "      <td>359</td>\n",
       "      <td>235</td>\n",
       "      <td>187</td>\n",
       "      <td>219</td>\n",
       "      <td>-188</td>\n",
       "      <td>94</td>\n",
       "      <td>265</td>\n",
       "      <td>125</td>\n",
       "      <td>62</td>\n",
       "      <td>125</td>\n",
       "      <td>360</td>\n",
       "      <td>250</td>\n",
       "      <td>125</td>\n",
       "      <td>94</td>\n",
       "      <td>110</td>\n",
       "      <td>125</td>\n",
       "    </tr>\n",
       "    <tr>\n",
       "      <th>3</th>\n",
       "      <td>daniil</td>\n",
       "      <td>6.0</td>\n",
       "      <td>125</td>\n",
       "      <td>297</td>\n",
       "      <td>344</td>\n",
       "      <td>187</td>\n",
       "      <td>234</td>\n",
       "      <td>235</td>\n",
       "      <td>62</td>\n",
       "      <td>203</td>\n",
       "      <td>313</td>\n",
       "      <td>203</td>\n",
       "      <td>203</td>\n",
       "      <td>250</td>\n",
       "      <td>-172</td>\n",
       "      <td>63</td>\n",
       "      <td>204</td>\n",
       "      <td>78</td>\n",
       "      <td>109</td>\n",
       "      <td>141</td>\n",
       "      <td>297</td>\n",
       "      <td>234</td>\n",
       "      <td>140</td>\n",
       "      <td>109</td>\n",
       "      <td>125</td>\n",
       "      <td>94</td>\n",
       "    </tr>\n",
       "    <tr>\n",
       "      <th>4</th>\n",
       "      <td>daniil</td>\n",
       "      <td>7.0</td>\n",
       "      <td>375</td>\n",
       "      <td>360</td>\n",
       "      <td>328</td>\n",
       "      <td>203</td>\n",
       "      <td>141</td>\n",
       "      <td>218</td>\n",
       "      <td>375</td>\n",
       "      <td>391</td>\n",
       "      <td>328</td>\n",
       "      <td>172</td>\n",
       "      <td>156</td>\n",
       "      <td>219</td>\n",
       "      <td>281</td>\n",
       "      <td>266</td>\n",
       "      <td>203</td>\n",
       "      <td>78</td>\n",
       "      <td>47</td>\n",
       "      <td>109</td>\n",
       "      <td>94</td>\n",
       "      <td>94</td>\n",
       "      <td>125</td>\n",
       "      <td>125</td>\n",
       "      <td>94</td>\n",
       "      <td>109</td>\n",
       "    </tr>\n",
       "  </tbody>\n",
       "</table>\n",
       "</div>"
      ],
      "text/plain": [
       "       0    1    2    3    4    5    6    7    8    9    10   11   12   13   14   15   16   17   18   19   20   21   22   23   24   25\n",
       "0  daniil  0.0  235  359  344  547  281  313  281  313  343  594  219  265  125  203  234  438  125  219  110  156  110  109  156   94\n",
       "1  daniil  1.0   78  453  344  219  203  234   32  343  344  203  188  234 -203  218  219   94   94  140  281  235  125  125  109   94\n",
       "2  daniil  5.0  172  344  390  219  172  250   62  219  359  235  187  219 -188   94  265  125   62  125  360  250  125   94  110  125\n",
       "3  daniil  6.0  125  297  344  187  234  235   62  203  313  203  203  250 -172   63  204   78  109  141  297  234  140  109  125   94\n",
       "4  daniil  7.0  375  360  328  203  141  218  375  391  328  172  156  219  281  266  203   78   47  109   94   94  125  125   94  109"
      ]
     },
     "execution_count": 4,
     "metadata": {},
     "output_type": "execute_result"
    }
   ],
   "source": [
    "X.head()"
   ]
  },
  {
   "cell_type": "code",
   "execution_count": 52,
   "metadata": {},
   "outputs": [],
   "source": [
    "def count_honest_score(clf, X, true_name, test_size=0.5, random_state=0):\n",
    "    X_train, X_test, y_train, y_test = train_test_split(X[X[0] == true_name].iloc[:,2:],\n",
    "                                                        X[X[0] == true_name].iloc[:,0],\n",
    "                                                        test_size=test_size,\n",
    "                                                        random_state=random_state)\n",
    "    print('shape set_to_fit =', X_train.shape)\n",
    "    clf.fit(X_train)\n",
    "    y_test_pred = clf.predict(X_test)\n",
    "    get_score(true_name, y_test_pred, list(y_test))\n",
    "    print('\\nALL:')\n",
    "    y_all_pred = clf.predict(X.iloc[:,2:])\n",
    "    true_distribution = X.iloc[:,0]\n",
    "    get_score(true_name, y_all_pred, true_distribution)\n",
    "\n",
    "def count_score(clf, X, true_name):\n",
    "    set_to_fit = X[X[0] == true_name].iloc[:,2:]\n",
    "    print('shape set_to_fit =', set_to_fit.shape)\n",
    "    clf.fit(set_to_fit)\n",
    "    prediction = clf.predict(X.iloc[:,2:])\n",
    "    true_distribution = X.iloc[:,0]\n",
    "    get_score(true_name, prediction, true_distribution)\n",
    "\n",
    "def get_score(true_name, prediction, true_distribution):\n",
    "    tp = 0\n",
    "    tn = 0\n",
    "    fn = 0\n",
    "    fp = 0\n",
    "    for i, p in enumerate(prediction):\n",
    "        if p == 1 and true_distribution[i] == true_name:\n",
    "            tp+=1\n",
    "        if p == 1 and true_distribution[i] != true_name:\n",
    "            fp+=1\n",
    "        if p == -1 and true_distribution[i] == true_name:\n",
    "            fn+=1\n",
    "        if p == -1 and true_distribution[i] != true_name:\n",
    "            tn+=1\n",
    "    print('tatal =', len(prediction))\n",
    "    print('user', true_name + ', score:')\n",
    "    print()\n",
    "    print ('tp =',tp, '\\t', 'fp =',fp, '\\n', 'fn =',fn, '\\t', 'tn =',tn)\n",
    "    print()\n",
    "    print ('accuracy  =', (tp + tn)/len(prediction))\n",
    "    precision = (tp)/(tp+fp)\n",
    "    print ('precision =', precision)\n",
    "    recall = (tp)/(tp+fn)\n",
    "    print ('recall    =', recall)\n",
    "    print ('f1        =', 2*(precision*recall)/(precision+recall))"
   ]
  },
  {
   "cell_type": "code",
   "execution_count": 53,
   "metadata": {},
   "outputs": [
    {
     "name": "stdout",
     "output_type": "stream",
     "text": [
      "shape set_to_fit = (15, 24)\n"
     ]
    },
    {
     "name": "stderr",
     "output_type": "stream",
     "text": [
      "c:\\programdata\\anaconda3\\lib\\site-packages\\sklearn\\ensemble\\iforest.py:187: UserWarning: max_samples (100) is greater than the total number of samples (15). max_samples will be set to n_samples for estimation.\n",
      "  % (self.max_samples, n_samples))\n"
     ]
    },
    {
     "name": "stdout",
     "output_type": "stream",
     "text": [
      "tatal = 16\n",
      "user tamara, score:\n",
      "\n",
      "tp = 16 \t fp = 0 \n",
      " fn = 0 \t tn = 0\n",
      "\n",
      "accuracy  = 1.0\n",
      "precision = 1.0\n",
      "recall    = 1.0\n",
      "f1        = 1.0\n",
      "\n",
      "ALL:\n",
      "tatal = 130\n",
      "user tamara, score:\n",
      "\n",
      "tp = 29 \t fp = 63 \n",
      " fn = 2 \t tn = 36\n",
      "\n",
      "accuracy  = 0.5\n",
      "precision = 0.31521739130434784\n",
      "recall    = 0.9354838709677419\n",
      "f1        = 0.4715447154471545\n"
     ]
    }
   ],
   "source": [
    "clf_test = IsolationForest(max_samples=100, random_state=rng)\n",
    "count_honest_score(clf_test, X, 'tamara')"
   ]
  },
  {
   "cell_type": "code",
   "execution_count": 54,
   "metadata": {},
   "outputs": [
    {
     "name": "stdout",
     "output_type": "stream",
     "text": [
      "shape set_to_fit = (15, 24)\n"
     ]
    },
    {
     "name": "stderr",
     "output_type": "stream",
     "text": [
      "c:\\programdata\\anaconda3\\lib\\site-packages\\sklearn\\ensemble\\iforest.py:187: UserWarning: max_samples (100) is greater than the total number of samples (15). max_samples will be set to n_samples for estimation.\n",
      "  % (self.max_samples, n_samples))\n"
     ]
    },
    {
     "name": "stdout",
     "output_type": "stream",
     "text": [
      "tatal = 16\n",
      "user tamara, score:\n",
      "\n",
      "tp = 16 \t fp = 0 \n",
      " fn = 0 \t tn = 0\n",
      "\n",
      "accuracy  = 1.0\n",
      "precision = 1.0\n",
      "recall    = 1.0\n",
      "f1        = 1.0\n",
      "\n",
      "ALL:\n",
      "tatal = 130\n",
      "user tamara, score:\n",
      "\n",
      "tp = 29 \t fp = 58 \n",
      " fn = 2 \t tn = 41\n",
      "\n",
      "accuracy  = 0.5384615384615384\n",
      "precision = 0.3333333333333333\n",
      "recall    = 0.9354838709677419\n",
      "f1        = 0.49152542372881347\n"
     ]
    }
   ],
   "source": [
    "clf_test = IsolationForest(max_samples=100, random_state=rng)\n",
    "count_honest_score(clf_test, X, 'tamara')"
   ]
  },
  {
   "cell_type": "code",
   "execution_count": 55,
   "metadata": {},
   "outputs": [
    {
     "name": "stdout",
     "output_type": "stream",
     "text": [
      "shape set_to_fit = (10, 24)\n"
     ]
    },
    {
     "name": "stderr",
     "output_type": "stream",
     "text": [
      "c:\\programdata\\anaconda3\\lib\\site-packages\\sklearn\\ensemble\\iforest.py:187: UserWarning: max_samples (100) is greater than the total number of samples (10). max_samples will be set to n_samples for estimation.\n",
      "  % (self.max_samples, n_samples))\n"
     ]
    },
    {
     "name": "stdout",
     "output_type": "stream",
     "text": [
      "tatal = 11\n",
      "user george, score:\n",
      "\n",
      "tp = 9 \t fp = 0 \n",
      " fn = 2 \t tn = 0\n",
      "\n",
      "accuracy  = 0.8181818181818182\n",
      "precision = 1.0\n",
      "recall    = 0.8181818181818182\n",
      "f1        = 0.9\n",
      "\n",
      "ALL:\n",
      "tatal = 130\n",
      "user george, score:\n",
      "\n",
      "tp = 18 \t fp = 20 \n",
      " fn = 3 \t tn = 89\n",
      "\n",
      "accuracy  = 0.823076923076923\n",
      "precision = 0.47368421052631576\n",
      "recall    = 0.8571428571428571\n",
      "f1        = 0.6101694915254237\n"
     ]
    }
   ],
   "source": [
    "clf_test = IsolationForest(max_samples=100, random_state=rng)\n",
    "count_honest_score(clf_test, X, 'george')"
   ]
  },
  {
   "cell_type": "code",
   "execution_count": 56,
   "metadata": {},
   "outputs": [
    {
     "name": "stdout",
     "output_type": "stream",
     "text": [
      "shape set_to_fit = (17, 24)\n"
     ]
    },
    {
     "name": "stderr",
     "output_type": "stream",
     "text": [
      "c:\\programdata\\anaconda3\\lib\\site-packages\\sklearn\\ensemble\\iforest.py:187: UserWarning: max_samples (100) is greater than the total number of samples (17). max_samples will be set to n_samples for estimation.\n",
      "  % (self.max_samples, n_samples))\n"
     ]
    },
    {
     "name": "stdout",
     "output_type": "stream",
     "text": [
      "tatal = 18\n",
      "user ылшиф, score:\n",
      "\n",
      "tp = 16 \t fp = 0 \n",
      " fn = 2 \t tn = 0\n",
      "\n",
      "accuracy  = 0.8888888888888888\n",
      "precision = 1.0\n",
      "recall    = 0.8888888888888888\n",
      "f1        = 0.9411764705882353\n",
      "\n",
      "ALL:\n",
      "tatal = 130\n",
      "user ылшиф, score:\n",
      "\n",
      "tp = 31 \t fp = 12 \n",
      " fn = 4 \t tn = 83\n",
      "\n",
      "accuracy  = 0.8769230769230769\n",
      "precision = 0.7209302325581395\n",
      "recall    = 0.8857142857142857\n",
      "f1        = 0.7948717948717948\n"
     ]
    }
   ],
   "source": [
    "clf_test = IsolationForest(max_samples=100, random_state=rng)\n",
    "count_honest_score(clf_test, X, 'ылшиф')"
   ]
  },
  {
   "cell_type": "code",
   "execution_count": 57,
   "metadata": {},
   "outputs": [
    {
     "name": "stdout",
     "output_type": "stream",
     "text": [
      "shape set_to_fit = (9, 24)\n"
     ]
    },
    {
     "name": "stderr",
     "output_type": "stream",
     "text": [
      "c:\\programdata\\anaconda3\\lib\\site-packages\\sklearn\\ensemble\\iforest.py:187: UserWarning: max_samples (100) is greater than the total number of samples (9). max_samples will be set to n_samples for estimation.\n",
      "  % (self.max_samples, n_samples))\n"
     ]
    },
    {
     "name": "stdout",
     "output_type": "stream",
     "text": [
      "tatal = 10\n",
      "user daniil, score:\n",
      "\n",
      "tp = 10 \t fp = 0 \n",
      " fn = 0 \t tn = 0\n",
      "\n",
      "accuracy  = 1.0\n",
      "precision = 1.0\n",
      "recall    = 1.0\n",
      "f1        = 1.0\n",
      "\n",
      "ALL:\n",
      "tatal = 130\n",
      "user daniil, score:\n",
      "\n",
      "tp = 18 \t fp = 100 \n",
      " fn = 1 \t tn = 11\n",
      "\n",
      "accuracy  = 0.2230769230769231\n",
      "precision = 0.15254237288135594\n",
      "recall    = 0.9473684210526315\n",
      "f1        = 0.26277372262773724\n"
     ]
    }
   ],
   "source": [
    "clf_test = IsolationForest(max_samples=100, random_state=rng)\n",
    "count_honest_score(clf_test, X, 'daniil')"
   ]
  },
  {
   "cell_type": "code",
   "execution_count": 58,
   "metadata": {},
   "outputs": [
    {
     "name": "stdout",
     "output_type": "stream",
     "text": [
      "shape set_to_fit = (12, 24)\n"
     ]
    },
    {
     "name": "stderr",
     "output_type": "stream",
     "text": [
      "c:\\programdata\\anaconda3\\lib\\site-packages\\sklearn\\ensemble\\iforest.py:187: UserWarning: max_samples (100) is greater than the total number of samples (12). max_samples will be set to n_samples for estimation.\n",
      "  % (self.max_samples, n_samples))\n"
     ]
    },
    {
     "name": "stdout",
     "output_type": "stream",
     "text": [
      "tatal = 12\n",
      "user chukanov, score:\n",
      "\n",
      "tp = 11 \t fp = 0 \n",
      " fn = 1 \t tn = 0\n",
      "\n",
      "accuracy  = 0.9166666666666666\n",
      "precision = 1.0\n",
      "recall    = 0.9166666666666666\n",
      "f1        = 0.9565217391304348\n",
      "\n",
      "ALL:\n",
      "tatal = 130\n",
      "user chukanov, score:\n",
      "\n",
      "tp = 21 \t fp = 18 \n",
      " fn = 3 \t tn = 88\n",
      "\n",
      "accuracy  = 0.8384615384615385\n",
      "precision = 0.5384615384615384\n",
      "recall    = 0.875\n",
      "f1        = 0.6666666666666667\n"
     ]
    }
   ],
   "source": [
    "clf_test = IsolationForest(max_samples=100, random_state=rng)\n",
    "count_honest_score(clf_test, X, 'chukanov')"
   ]
  },
  {
   "cell_type": "code",
   "execution_count": null,
   "metadata": {},
   "outputs": [],
   "source": []
  }
 ],
 "metadata": {
  "kernelspec": {
   "display_name": "Python 3",
   "language": "python",
   "name": "python3"
  },
  "language_info": {
   "codemirror_mode": {
    "name": "ipython",
    "version": 3
   },
   "file_extension": ".py",
   "mimetype": "text/x-python",
   "name": "python",
   "nbconvert_exporter": "python",
   "pygments_lexer": "ipython3",
   "version": "3.5.4"
  }
 },
 "nbformat": 4,
 "nbformat_minor": 2
}
